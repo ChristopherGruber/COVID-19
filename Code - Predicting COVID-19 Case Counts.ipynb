{
 "cells": [
  {
   "cell_type": "markdown",
   "metadata": {},
   "source": [
    "# Predicting COVID-19 Case Counts \n",
    "##### Forecast cases by US county\n",
    "##### Use an LSTM neural network model"
   ]
  },
  {
   "cell_type": "markdown",
   "metadata": {},
   "source": [
    "### Import packages"
   ]
  },
  {
   "cell_type": "code",
   "execution_count": 220,
   "metadata": {},
   "outputs": [],
   "source": [
    "import pandas as pd\n",
    "import numpy as np\n",
    "\n",
    "import matplotlib.pyplot as plt\n",
    "\n",
    "%matplotlib inline\n",
    "plt.rcParams[\"figure.figsize\"] = (10,10)"
   ]
  },
  {
   "cell_type": "markdown",
   "metadata": {},
   "source": [
    "### Read in the case count data\n",
    "##### From the dataworld website\n",
    "##### Saved locally as \"data/Johns Hopkins COVID-19 Cases.csv\"\n",
    "##### https://data.world/covid-19-data-resource-hub/covid-19-case-counts"
   ]
  },
  {
   "cell_type": "code",
   "execution_count": 399,
   "metadata": {},
   "outputs": [
    {
     "name": "stderr",
     "output_type": "stream",
     "text": [
      "C:\\ProgramData\\Anaconda3\\lib\\site-packages\\IPython\\core\\interactiveshell.py:2785: DtypeWarning: Columns (8) have mixed types. Specify dtype option on import or set low_memory=False.\n",
      "  interactivity=interactivity, compiler=compiler, result=result)\n"
     ]
    }
   ],
   "source": [
    "data = pd.read_csv(\"data/Johns Hopkins COVID-19 Cases.csv\")\n",
    "data.Date = pd.to_datetime(data.Date)"
   ]
  },
  {
   "cell_type": "markdown",
   "metadata": {},
   "source": [
    "### Restrict the data to the US\n",
    "##### This dataset contains entries for many countries and is interesting to play around with"
   ]
  },
  {
   "cell_type": "code",
   "execution_count": 400,
   "metadata": {},
   "outputs": [],
   "source": [
    "data = data[data.Country_Region==\"US\"]"
   ]
  },
  {
   "cell_type": "markdown",
   "metadata": {},
   "source": [
    "### Keep only the positive case counts\n",
    "##### The LSTM network does not train well when there are many mostly-zero sequences"
   ]
  },
  {
   "cell_type": "code",
   "execution_count": 404,
   "metadata": {},
   "outputs": [],
   "source": [
    "data = data[data.Cases > 0]"
   ]
  },
  {
   "cell_type": "markdown",
   "metadata": {},
   "source": [
    "### Split off case counts and deaths\n",
    "##### The remaining analysis focuses on cases only but is easily adapted"
   ]
  },
  {
   "cell_type": "code",
   "execution_count": 405,
   "metadata": {},
   "outputs": [],
   "source": [
    "cases = data[data.Case_Type==\"Confirmed\"]\n",
    "deaths = data[data.Case_Type==\"Deaths\"]"
   ]
  },
  {
   "cell_type": "markdown",
   "metadata": {},
   "source": [
    "### Create sequences from the data"
   ]
  },
  {
   "cell_type": "markdown",
   "metadata": {},
   "source": [
    "##### Parameters"
   ]
  },
  {
   "cell_type": "code",
   "execution_count": 406,
   "metadata": {},
   "outputs": [],
   "source": [
    "sequence_length = 5"
   ]
  },
  {
   "cell_type": "markdown",
   "metadata": {},
   "source": [
    "##### Utility function"
   ]
  },
  {
   "cell_type": "code",
   "execution_count": 407,
   "metadata": {},
   "outputs": [],
   "source": [
    "def sequence_data(df,sequence_length,col=\"Cases\"):\n",
    "    values = df[col]\n",
    "    \n",
    "    sequences = []\n",
    "    targets = []\n",
    "    \n",
    "    for k in range(0,len(values)-sequence_length): #Populate return values with slicing operations\n",
    "        sequences.append(values.iloc[k:k+sequence_length].values)\n",
    "        targets.append(values.iloc[k+sequence_length])\n",
    "        \n",
    "    return sequences,targets"
   ]
  },
  {
   "cell_type": "markdown",
   "metadata": {},
   "source": [
    "##### Loop through the counties and append their sequences and targets together"
   ]
  },
  {
   "cell_type": "code",
   "execution_count": 409,
   "metadata": {},
   "outputs": [],
   "source": [
    "#Containers for training data and targets\n",
    "sequences_array = np.array([])\n",
    "targets_array = np.array([])\n",
    "id_list = []\n",
    "\n",
    "#Consider each consumer in turn and create sequences and targets\n",
    "for fips in cases.FIPS.unique():\n",
    "\n",
    "    #Raw values as np.array\n",
    "    subset = cases[cases.FIPS==fips]\n",
    "    subset.sort_values(\"Date\",inplace=True)\n",
    "\n",
    "    #Create sequences and targets\n",
    "    sequences_addition, targets_addition = sequence_data(subset,sequence_length)\n",
    "    if not sequences_addition:\n",
    "        continue\n",
    "\n",
    "    #Append to the containers\n",
    "    if len(sequences_array) > 0:\n",
    "        sequences_array = np.vstack((sequences_array,sequences_addition))\n",
    "        targets_array += targets_addition\n",
    "    else:\n",
    "        sequences_array = sequences_addition\n",
    "        targets_array = targets_addition\n",
    "\n",
    "    id_list = id_list + [fips] * len(sequences_addition)\n",
    "\n",
    "#Convert the results to numpy arrays\n",
    "sequences_array = np.array(sequences_array)\n",
    "targets_array = np.array(targets_array)\n",
    "\n",
    "sequences = np.array(sequences_array).reshape((-1,sequence_length,1))\n",
    "targets = targets_array"
   ]
  },
  {
   "cell_type": "markdown",
   "metadata": {},
   "source": [
    "##### Filter out the sequences with small case counts"
   ]
  },
  {
   "cell_type": "code",
   "execution_count": 412,
   "metadata": {},
   "outputs": [],
   "source": [
    "min_cases = 10\n",
    "\n",
    "totals = sequences.sum(axis=1)\n",
    "idx_array = np.argwhere(totals > min_cases*sequence_length)\n",
    "idx_array = [x[0] for x in idx_array]\n",
    "\n",
    "sequences = sequences[idx_array]\n",
    "targets = targets[idx_array]\n",
    "id_list = np.array(id_list)[idx_array]"
   ]
  },
  {
   "cell_type": "markdown",
   "metadata": {},
   "source": [
    "### Set aside some of the data for testing"
   ]
  },
  {
   "cell_type": "code",
   "execution_count": 442,
   "metadata": {},
   "outputs": [],
   "source": [
    "test_ratio = 0.1\n",
    "\n",
    "cutoff = round((1-test_ratio)*len(targets))\n",
    "\n",
    "sequences_train = sequences[:cutoff]\n",
    "sequences_test = sequences[cutoff:]\n",
    "\n",
    "targets_train = targets[:cutoff]\n",
    "targets_test = targets[cutoff:]"
   ]
  },
  {
   "cell_type": "markdown",
   "metadata": {},
   "source": [
    "# Build the LSTM model"
   ]
  },
  {
   "cell_type": "code",
   "execution_count": 443,
   "metadata": {},
   "outputs": [],
   "source": [
    "from keras.models import Sequential\n",
    "\n",
    "from keras.layers import Dense\n",
    "from keras.layers import LSTM\n",
    "from keras.layers import Activation\n",
    "from keras.layers import Dropout\n",
    "from keras.regularizers import l1, l2, l1_l2\n",
    "\n",
    "from sklearn.preprocessing import MinMaxScaler"
   ]
  },
  {
   "cell_type": "markdown",
   "metadata": {},
   "source": [
    "### Scale the data"
   ]
  },
  {
   "cell_type": "code",
   "execution_count": 446,
   "metadata": {
    "scrolled": true
   },
   "outputs": [],
   "source": [
    "scaling_factor = targets.max()\n",
    "\n",
    "sequences_train_scaled = sequences_train/scaling_factor\n",
    "sequences_test_scaled = sequences_test/scaling_factor\n",
    "\n",
    "targets_train_scaled = targets_train/scaling_factor\n",
    "targets_test_scaled = targets_test/scaling_factor"
   ]
  },
  {
   "cell_type": "markdown",
   "metadata": {},
   "source": [
    "### Set parameters for LSTM network"
   ]
  },
  {
   "cell_type": "code",
   "execution_count": 447,
   "metadata": {},
   "outputs": [],
   "source": [
    "width = 1\n",
    "depth = sequence_length"
   ]
  },
  {
   "cell_type": "markdown",
   "metadata": {},
   "source": [
    "### Develop the model"
   ]
  },
  {
   "cell_type": "code",
   "execution_count": 448,
   "metadata": {},
   "outputs": [],
   "source": [
    "node_size=16\n",
    "second_layer=0\n",
    "optimizer=\"adam\"\n",
    "loss=\"mean_squared_error\"\n",
    "activation=\"relu\"\n",
    "\n",
    "model = Sequential()\n",
    "if not second_layer:\n",
    "    model.add(LSTM(node_size, input_shape=(depth, width)))\n",
    "else:\n",
    "    model.add(LSTM(node_size, input_shape=(depth, width), return_sequences=True))\n",
    "    model.add(LSTM(node_size))\n",
    "\n",
    "model.add(Dense(width))\n",
    "model.add(Activation(activation))\n",
    "\n",
    "model.compile(loss=loss,optimizer=optimizer)"
   ]
  },
  {
   "cell_type": "markdown",
   "metadata": {},
   "source": [
    "### Fit the model"
   ]
  },
  {
   "cell_type": "code",
   "execution_count": 508,
   "metadata": {
    "scrolled": true
   },
   "outputs": [
    {
     "name": "stdout",
     "output_type": "stream",
     "text": [
      "Epoch 1/10\n",
      " - 0s - loss: 8.6758e-04\n",
      "Epoch 2/10\n",
      " - 0s - loss: 8.5693e-04\n",
      "Epoch 3/10\n",
      " - 0s - loss: 8.3521e-04\n",
      "Epoch 4/10\n",
      " - 0s - loss: 8.1148e-04\n",
      "Epoch 5/10\n",
      " - 0s - loss: 8.1799e-04\n",
      "Epoch 6/10\n",
      " - 0s - loss: 8.2114e-04\n",
      "Epoch 7/10\n",
      " - 0s - loss: 8.1429e-04\n",
      "Epoch 8/10\n",
      " - 0s - loss: 8.0256e-04\n",
      "Epoch 9/10\n",
      " - 0s - loss: 7.9622e-04\n",
      "Epoch 10/10\n",
      " - 0s - loss: 7.9289e-04\n"
     ]
    },
    {
     "data": {
      "text/plain": [
       "<keras.callbacks.History at 0x18a07160>"
      ]
     },
     "execution_count": 508,
     "metadata": {},
     "output_type": "execute_result"
    }
   ],
   "source": [
    "model.fit(sequences_train_scaled,targets_train_scaled,batch_size=16,epochs=10,verbose=2)"
   ]
  },
  {
   "cell_type": "markdown",
   "metadata": {},
   "source": [
    "### Calculate the mean absolute error for next-day predictions"
   ]
  },
  {
   "cell_type": "code",
   "execution_count": 560,
   "metadata": {},
   "outputs": [
    {
     "name": "stdout",
     "output_type": "stream",
     "text": [
      "Mean absolute error: 1.212%\n"
     ]
    }
   ],
   "source": [
    "predictions_scaled = model.predict(sequences_test_scaled)\n",
    "predictions = [np.round(x*scaling_factor) for x in predictions_scaled]\n",
    "\n",
    "differences = [abs(predictions[k]/targets_test[k]-1) for k in range(len(predictions))]\n",
    "mape = sum(differences)/len(predictions)\n",
    "\n",
    "print(\"Mean absolute error: {:.4}%\".format(100*mape[0]))"
   ]
  },
  {
   "cell_type": "markdown",
   "metadata": {},
   "source": [
    "### Step through the prediction one day at a time"
   ]
  },
  {
   "cell_type": "code",
   "execution_count": 511,
   "metadata": {},
   "outputs": [],
   "source": [
    "start_index = 0\n",
    "end_index = len(sequences_test_scaled)\n",
    "\n",
    "sequences_test_scaled_subset = sequences_test_scaled[start_index:end_index].copy()\n",
    "\n",
    "input_sequence = sequences_test_scaled_subset[0].reshape((-1,sequence_length,1))\n",
    "\n",
    "next_value = model.predict(input_sequence)\n",
    "\n",
    "predictions_scaled = [next_value[0][0]]\n",
    "\n",
    "input_sequence[:,:-1,:] = input_sequence[:,1:,:]\n",
    "input_sequence[:,-1,:] = next_value\n",
    "\n",
    "for _ in range(len(sequences_test_scaled_subset)-1):\n",
    "    next_value = model.predict(input_sequence)\n",
    "\n",
    "    predictions_scaled.append(next_value[0][0])\n",
    "\n",
    "    input_sequence[:,:-1,:] = input_sequence[:,1:,:]\n",
    "    input_sequence[:,-1,:] = next_value\n",
    "    \n",
    "predictions = [predictions_scaled[k]*scaling_factor for k in range(len(predictions_scaled))]"
   ]
  },
  {
   "cell_type": "markdown",
   "metadata": {},
   "source": [
    "### Plot the difference between the predicted and actual"
   ]
  },
  {
   "cell_type": "code",
   "execution_count": 541,
   "metadata": {},
   "outputs": [
    {
     "data": {
      "image/png": "[encoded data removed]",
      "text/plain": [
       "<Figure size 720x720 with 1 Axes>"
      ]
     },
     "metadata": {
      "needs_background": "light"
     },
     "output_type": "display_data"
    }
   ],
   "source": [
    "observed_values = sequences_test[start_index:end_index]\n",
    "observed_values = observed_values[0,:,0]\n",
    "\n",
    "plt.plot(range(sequence_length),observed_values,c='k',label=\"Training Data\",linewidth=4)\n",
    "plt.plot(range(sequence_length-1,sequence_length-start_index+end_index),[observed_values[-1]]+list(targets_test[start_index:end_index]),c=(0.4706, 0.2039, 0.4235),label=\"Actual Cases\",linewidth=4)\n",
    "plt.plot(range(sequence_length-1,sequence_length-start_index+end_index),[observed_values[-1]]+predictions,c=(0.8706, 0.451, 0.2235),label=\"Predicted Cases\",linewidth=4,linestyle='--')\n",
    "\n",
    "plt.xlabel(\"Date\",size=32)\n",
    "plt.ylabel(\"Case Count\",size=32)\n",
    "plt.xticks(size=20)\n",
    "plt.yticks(size=20)\n",
    "plt.xticks([0,2,4,6,8],[\"20 Apr\",\"22 Apr\",\"24 Apr\",\"26 Apr\",\"28 Apr\"])\n",
    "plt.legend(loc='upper left',fontsize=24); "
   ]
  }
 ],
 "metadata": {
  "kernelspec": {
   "display_name": "Python 3",
   "language": "python",
   "name": "python3"
  },
  "language_info": {
   "codemirror_mode": {
    "name": "ipython",
    "version": 3
   },
   "file_extension": ".py",
   "mimetype": "text/x-python",
   "name": "python",
   "nbconvert_exporter": "python",
   "pygments_lexer": "ipython3",
   "version": "3.7.0"
  }
 },
 "nbformat": 4,
 "nbformat_minor": 2
}
